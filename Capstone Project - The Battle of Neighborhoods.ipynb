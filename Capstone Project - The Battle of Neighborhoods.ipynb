{
 "cells": [
  {
   "cell_type": "markdown",
   "id": "cardiovascular-playlist",
   "metadata": {
    "toc": true
   },
   "source": [
    "<h1>Table of Contents<span class=\"tocSkip\"></span></h1>\n",
    "<div class=\"toc\"><ul class=\"toc-item\"><li><span><a href=\"#Introduction-/-Business-description\" data-toc-modified-id=\"Introduction-/-Business-description-1\"><span class=\"toc-item-num\">1&nbsp;&nbsp;</span>Introduction / Business description</a></span><ul class=\"toc-item\"><li><span><a href=\"#City-of-choise:-Montreal,-Quebec,-Canada\" data-toc-modified-id=\"City-of-choise:-Montreal,-Quebec,-Canada-1.1\"><span class=\"toc-item-num\">1.1&nbsp;&nbsp;</span>City of choise: Montreal, Quebec, Canada</a></span></li><li><span><a href=\"#Business-of-choise:-Opening-movie-theathers\" data-toc-modified-id=\"Business-of-choise:-Opening-movie-theathers-1.2\"><span class=\"toc-item-num\">1.2&nbsp;&nbsp;</span>Business of choise: Opening movie theathers</a></span></li></ul></li><li><span><a href=\"#Data-description\" data-toc-modified-id=\"Data-description-2\"><span class=\"toc-item-num\">2&nbsp;&nbsp;</span>Data description</a></span><ul class=\"toc-item\"><li><span><a href=\"#Impact-factors:\" data-toc-modified-id=\"Impact-factors:-2.1\"><span class=\"toc-item-num\">2.1&nbsp;&nbsp;</span>Impact factors:</a></span></li><li><span><a href=\"#Data-sources\" data-toc-modified-id=\"Data-sources-2.2\"><span class=\"toc-item-num\">2.2&nbsp;&nbsp;</span>Data sources</a></span></li><li><span><a href=\"#Montreal-Island-Shape-File\" data-toc-modified-id=\"Montreal-Island-Shape-File-2.3\"><span class=\"toc-item-num\">2.3&nbsp;&nbsp;</span>Montreal Island Shape File</a></span></li></ul></li></ul></div>"
   ]
  },
  {
   "cell_type": "markdown",
   "id": "tracked-grace",
   "metadata": {},
   "source": [
    "# Introduction / Business description\n",
    "- Clearly define a problem or an idea of your choice, where you would need to leverage the Foursquare location data to solve or execute. \n",
    "- Remember that data science problems always target an audience and are meant to help a group of stakeholders solve a problem, so make sure that you explicitly describe your audience and why they would care about your problem.\n",
    "- Business of choise: opening a movie theathers in Motreal as reference from https://towardsdatascience.com/the-battle-of-the-neighborhoods-open-a-movie-theater-in-montreal-355cf5c679b8"
   ]
  },
  {
   "cell_type": "markdown",
   "id": "athletic-samoa",
   "metadata": {},
   "source": [
    "## City of choise: Montreal, Quebec, Canada\n",
    "- Montreal is the second-largest city in Canada and the largest city in the province of Quebec, located along the Saint Lawrence River at its junction with the Ottawa River. \n",
    "- It sits on an island. In this report, we will focus on all areas on the Montreal island. \n",
    "- There are many movie theaters on Montreal island, we will conclude where are the existing movie theaters. \n",
    "- Then we will use a clustering model to find similar areas on the island considering demographic data of each borough and region. \n",
    "- The preferred area shall be distant from existing movie theaters."
   ]
  },
  {
   "cell_type": "markdown",
   "id": "american-estate",
   "metadata": {},
   "source": [
    "## Business of choise: Opening movie theathers\n",
    "- We will use data science tools to fetch the raw data, visualize it then generate a few most promising areas based on the above criteria. \n",
    "- In the meanwhile, we will also explain the advantage and traits for the candidates, so that stakeholders can make the final decision base on the analysis."
   ]
  },
  {
   "cell_type": "markdown",
   "id": "absolute-wheat",
   "metadata": {},
   "source": [
    "# Data description\n",
    "- Describe the data that you will be using to solve the problem or execute your idea. \n",
    "- Remember that you will need to use the Foursquare location data to solve the problem or execute your idea. \n",
    "- You can absolutely use other datasets in combination with the Foursquare location data. \n",
    "- So make sure that you provide adequate explanation and discussion, with examples, of the data that you will be using, even if it is only Foursquare location data."
   ]
  },
  {
   "cell_type": "markdown",
   "id": "spanish-senegal",
   "metadata": {},
   "source": [
    "## Impact factors:\n",
    "- Demographic information, e.g. population, density, education, age, income\n",
    "- Number of existing shopping malls in the neighborhood and nearby\n",
    "- Number of existing movie theaters in the neighborhood and nearby\n",
    "- We decided to use a regularly spaced grid of locations all around the whole Montreal island, to define our neighborhoods.\n",
    "- Concretely, we will use popular hexagon honeycomb to define our neighborhoods."
   ]
  },
  {
   "cell_type": "markdown",
   "id": "western-cinema",
   "metadata": {},
   "source": [
    "## Data sources\n",
    "In this project, we will fetch or extract data from the following data sources:\n",
    "- Montreal census information of the 2016 year: http://ville.montreal.qc.ca/pls/portal/url/ITEM/55637C4923B8B03EE0530A930132B03E\n",
    "- Centers of hexagon neighborhoods will be generated algorithmically and approximate addresses of centers of those areas will be obtained using Google Geocoding API\n",
    "- Shopping malls and movie theaters data in every neighborhood will be obtained using Foursquare API\n",
    "- Coordinate of Montreal center will be obtained using Google Geocoding API of well known Montreal location\n",
    "- Montreal borough shapefile is obtained from Carto: https://jmacman12.carto.com/tables/montreal_shapefile/public"
   ]
  },
  {
   "cell_type": "markdown",
   "id": "municipal-beast",
   "metadata": {},
   "source": [
    "## Montreal Island Shape File\n",
    "- To show the Montreal island boundary in the folium map, we need a geojson definition file for Montreal island. We downloaded this shapefile from the Carto website.\n",
    "- The file is in JSON format, containing boundary definition for every borough or municipality in Montreal island. We will visualize this geojson definition file with a folium map in the next step.\n",
    "- Folium: folium builds on the data wrangling strengths of the Python ecosystem and the mapping strengths of the leaflet.js library. Manipulate your data in Python, then visualize it in on a Leaflet map via folium.¹\n",
    "- It’s not difficult to use folium, just required a few lines of code to show Montreal island with boundary data."
   ]
  }
 ],
 "metadata": {
  "kernelspec": {
   "display_name": "Python 3",
   "language": "python",
   "name": "python3"
  },
  "language_info": {
   "codemirror_mode": {
    "name": "ipython",
    "version": 3
   },
   "file_extension": ".py",
   "mimetype": "text/x-python",
   "name": "python",
   "nbconvert_exporter": "python",
   "pygments_lexer": "ipython3",
   "version": "3.8.5"
  },
  "toc": {
   "base_numbering": 1,
   "nav_menu": {},
   "number_sections": true,
   "sideBar": true,
   "skip_h1_title": false,
   "title_cell": "Table of Contents",
   "title_sidebar": "Contents",
   "toc_cell": true,
   "toc_position": {},
   "toc_section_display": true,
   "toc_window_display": true
  },
  "varInspector": {
   "cols": {
    "lenName": 16,
    "lenType": 16,
    "lenVar": 40
   },
   "kernels_config": {
    "python": {
     "delete_cmd_postfix": "",
     "delete_cmd_prefix": "del ",
     "library": "var_list.py",
     "varRefreshCmd": "print(var_dic_list())"
    },
    "r": {
     "delete_cmd_postfix": ") ",
     "delete_cmd_prefix": "rm(",
     "library": "var_list.r",
     "varRefreshCmd": "cat(var_dic_list()) "
    }
   },
   "types_to_exclude": [
    "module",
    "function",
    "builtin_function_or_method",
    "instance",
    "_Feature"
   ],
   "window_display": true
  }
 },
 "nbformat": 4,
 "nbformat_minor": 5
}
